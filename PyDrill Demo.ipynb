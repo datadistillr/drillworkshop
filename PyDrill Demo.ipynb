{
 "cells": [
  {
   "cell_type": "markdown",
   "metadata": {},
   "source": [
    "# PyDrill Demonstration\n",
    "This notebook demonstrates how to use the PyDrill module to connect to Apache Drill and query data. The complete documentation for PyDrill can be found at http://pydrill.readthedocs.io\n",
    "\n",
    "The essential steps are:\n",
    "1.  Import the module\n",
    "2.  Open a connection to Drill\n",
    "3.  Execute a query\n",
    "4.  Do something with the results. \n",
    "\n",
    "You will first need to install PyDrill.  This can be done by opening a terminal and typing:\n",
    "```python\n",
    "pip install pydrill\n",
    "```\n",
    "## Step 1:  Import the PyDrill module\n",
    "After you've done this, you will be able to import the PyDrill module."
   ]
  },
  {
   "cell_type": "code",
   "execution_count": 1,
   "metadata": {
    "collapsed": true
   },
   "outputs": [],
   "source": [
    "from pydrill.client import PyDrill"
   ]
  },
  {
   "cell_type": "markdown",
   "metadata": {},
   "source": [
    "## Step 2:  Open a connection to Drill\n",
    "The next step is to open a connection to Drill.  Once you've opened the connection, you will want to verify that the connection was successfully opened before executing any queries.  PyDrill includes an `is_active()` method for this purpose."
   ]
  },
  {
   "cell_type": "code",
   "execution_count": 2,
   "metadata": {
    "collapsed": false
   },
   "outputs": [],
   "source": [
    "#Open a connection to Drill\n",
    "drill = PyDrill(host='localhost', port=8047)\n",
    "\n",
    "#Verify the connection is active, throw an error if not.\n",
    "if not drill.is_active():\n",
    "    raise ImproperlyConfigured('Please run Drill first')"
   ]
  },
  {
   "cell_type": "markdown",
   "metadata": {},
   "source": [
    "## Step 3: Execute a query and get the results\n",
    "The next and final step is to execute a query in Drill.  When you call the `.query()` method, PyDrill returns an iterable object from which you can extract the rows of your results.  You can also get PyDrill to return a pandas DataFrame. "
   ]
  },
  {
   "cell_type": "code",
   "execution_count": 3,
   "metadata": {
    "collapsed": false
   },
   "outputs": [
    {
     "name": "stdout",
     "output_type": "stream",
     "text": [
      "{'avg_salary': '238772.0', 'number': '1', 'JobTitle': \"STATE'S ATTORNEY\"}\n",
      "{'avg_salary': '211785.0', 'number': '1', 'JobTitle': 'Police Commissioner'}\n",
      "{'avg_salary': '178900.0', 'number': '1', 'JobTitle': 'Executive Director V'}\n",
      "{'avg_salary': '167449.0', 'number': '1', 'JobTitle': 'MAYOR'}\n",
      "{'avg_salary': '166500.0', 'number': '1', 'JobTitle': 'CITY SOLICITOR'}\n",
      "{'avg_salary': '166500.0', 'number': '1', 'JobTitle': 'DIRECTOR PUBLIC WORKS'}\n",
      "{'avg_salary': '166401.66666666666', 'number': '9', 'JobTitle': 'Executive Director III'}\n",
      "{'avg_salary': '159800.0', 'number': '1', 'JobTitle': 'CITY AUDITOR'}\n",
      "{'avg_salary': '146891.5', 'number': '4', 'JobTitle': 'Executive Director IV'}\n",
      "{'avg_salary': '146500.0', 'number': '3', 'JobTitle': 'Assistant Fire Chief'}\n"
     ]
    }
   ],
   "source": [
    "#Execute query in Drill\n",
    "query_result = drill.query('''\n",
    " SELECT JobTitle, \n",
    "AVG( CAST( LTRIM( AnnualSalary, '$' ) AS FLOAT) ) AS avg_salary, \n",
    "COUNT( DISTINCT name ) AS number\n",
    "FROM dfs.drillclass.`*.csvh`\n",
    "GROUP BY JobTitle\n",
    "Order By avg_salary DESC\n",
    "LIMIT 10\n",
    "''')\n",
    "\n",
    "#Iterate through the rows.\n",
    "for row in query_result:\n",
    "    print( row )"
   ]
  },
  {
   "cell_type": "markdown",
   "metadata": {
    "collapsed": false
   },
   "source": [
    "### Retrieving a DataFrame\n",
    "You can also get PyDrill to directly return a DataFrame by using the `.to_dataframe()` method of the results object."
   ]
  },
  {
   "cell_type": "code",
   "execution_count": 5,
   "metadata": {
    "collapsed": false
   },
   "outputs": [
    {
     "data": {
      "text/html": [
       "<div>\n",
       "<table border=\"1\" class=\"dataframe\">\n",
       "  <thead>\n",
       "    <tr style=\"text-align: right;\">\n",
       "      <th></th>\n",
       "      <th>JobTitle</th>\n",
       "      <th>avg_salary</th>\n",
       "      <th>number</th>\n",
       "    </tr>\n",
       "  </thead>\n",
       "  <tbody>\n",
       "    <tr>\n",
       "      <th>0</th>\n",
       "      <td>STATE'S ATTORNEY</td>\n",
       "      <td>238772.0</td>\n",
       "      <td>1</td>\n",
       "    </tr>\n",
       "    <tr>\n",
       "      <th>1</th>\n",
       "      <td>Police Commissioner</td>\n",
       "      <td>211785.0</td>\n",
       "      <td>1</td>\n",
       "    </tr>\n",
       "    <tr>\n",
       "      <th>2</th>\n",
       "      <td>Executive Director V</td>\n",
       "      <td>178900.0</td>\n",
       "      <td>1</td>\n",
       "    </tr>\n",
       "    <tr>\n",
       "      <th>3</th>\n",
       "      <td>MAYOR</td>\n",
       "      <td>167449.0</td>\n",
       "      <td>1</td>\n",
       "    </tr>\n",
       "    <tr>\n",
       "      <th>4</th>\n",
       "      <td>CITY SOLICITOR</td>\n",
       "      <td>166500.0</td>\n",
       "      <td>1</td>\n",
       "    </tr>\n",
       "  </tbody>\n",
       "</table>\n",
       "</div>"
      ],
      "text/plain": [
       "               JobTitle avg_salary number\n",
       "0      STATE'S ATTORNEY   238772.0      1\n",
       "1   Police Commissioner   211785.0      1\n",
       "2  Executive Director V   178900.0      1\n",
       "3                 MAYOR   167449.0      1\n",
       "4        CITY SOLICITOR   166500.0      1"
      ]
     },
     "execution_count": 5,
     "metadata": {},
     "output_type": "execute_result"
    }
   ],
   "source": [
    "df = query_result.to_dataframe()\n",
    "df.head()"
   ]
  },
  {
   "cell_type": "markdown",
   "metadata": {},
   "source": [
    "## In Class Exercise:\n",
    "Using the data in the `dailybots.csv` file use Drill to:\n",
    "1.  Query the file to produce a summary of infections by day.\n",
    "2.  Store this data in a dataframe using the `to_dataframe()` method.\n",
    "3.  Create a line plot of this data by calling the .plot() method on the dataframe"
   ]
  },
  {
   "cell_type": "code",
   "execution_count": null,
   "metadata": {
    "collapsed": true
   },
   "outputs": [],
   "source": []
  }
 ],
 "metadata": {
  "anaconda-cloud": {},
  "kernelspec": {
   "display_name": "Python [default]",
   "language": "python",
   "name": "python3"
  },
  "language_info": {
   "codemirror_mode": {
    "name": "ipython",
    "version": 3
   },
   "file_extension": ".py",
   "mimetype": "text/x-python",
   "name": "python",
   "nbconvert_exporter": "python",
   "pygments_lexer": "ipython3",
   "version": "3.5.2"
  }
 },
 "nbformat": 4,
 "nbformat_minor": 0
}
